{
 "cells": [
  {
   "cell_type": "markdown",
   "id": "117a8357",
   "metadata": {},
   "source": [
    "# Word Error Rate\n",
    "This notebook evalautes the word error rate between whisper transcriptions (located in `whisper/`) and another transcription service (located in `verbit`). \n",
    "The transcriptions you are using as a completely accurate baseline should be stored in `reference/`."
   ]
  },
  {
   "cell_type": "code",
   "execution_count": 1,
   "id": "1a548f62-950d-4e8c-8446-3cd4097a2403",
   "metadata": {},
   "outputs": [],
   "source": [
    "from jiwer import process_words\n",
    "import pandas as pd\n",
    "import os\n",
    "\n",
    "import sys\n",
    "sys.path.append(\"..\")\n",
    "from utilities import *\n",
    "\n",
    "from whisper.normalizers import EnglishTextNormalizer\n",
    "normalize = EnglishTextNormalizer()\n",
    "\n",
    "def load_file(file_path):\n",
    "    with open(file_path, 'r', encoding='utf-8-sig') as file:\n",
    "        file_string = file.read()\n",
    "    return file_string\n",
    "\n",
    "def compare(reference_path, hypothesis_path):\n",
    "    #normalize all text before comparison\n",
    "    reference = normalize(load_file(reference_path))\n",
    "    hypothesis = normalize(load_file(hypothesis_path))\n",
    "    \n",
    "    output = process_words(reference, hypothesis)\n",
    "    return output.wer"
   ]
  },
  {
   "cell_type": "code",
   "execution_count": 2,
   "id": "98112138",
   "metadata": {},
   "outputs": [
    {
     "name": "stdout",
     "output_type": "stream",
     "text": [
      "Currently Transcribing: example.mp4\n"
     ]
    },
    {
     "name": "stderr",
     "output_type": "stream",
     "text": [
      "100%|█████████████████████████████████████| 1.42G/1.42G [02:29<00:00, 10.2MiB/s]\n"
     ]
    }
   ],
   "source": [
    "model = \"medium.en\" # Whisper Model Size\n",
    "\n",
    "# batch transcribe everything in audio folder and save in whisper folder\n",
    "for file in os.listdir(\"../audio\"):\n",
    "    if not file.startswith('.'):\n",
    "        print(\"Currently Transcribing: \" + file)\n",
    "        text = transcribe(os.path.join(\"../audio\", file), model)\n",
    "        with open(os.path.join(\"whisper\", file.split('.')[0] + \".txt\"), 'w') as file:\n",
    "            file.write(text)"
   ]
  },
  {
   "cell_type": "code",
   "execution_count": null,
   "id": "bfe6fad4-3ae6-4f74-9a98-0df9dbd5bd62",
   "metadata": {},
   "outputs": [],
   "source": [
    "results = []\n",
    "\n",
    "for file in os.listdir(\"verbit\"):\n",
    "    if not file.startswith('.'):\n",
    "        lecture_name = file.split('.')[0] + \" \"\n",
    "        \n",
    "        reference_path = os.path.join(\"reference\", [l for l in os.listdir(\"reference\") if l.startswith(lecture_name)][0])\n",
    "        whisper_small_path = os.path.join(\"whisper/small.en\", [l for l in os.listdir(\"whisper/small.en\") if l.startswith(lecture_name)][0])\n",
    "        whisper_base_path = os.path.join(\"whisper/base.en\", [l for l in os.listdir(\"whisper/base.en\") if l.startswith(lecture_name)][0])\n",
    "        whisper_medium_path = os.path.join(\"whisper/medium.en\", [l for l in os.listdir(\"whisper/medium.en\") if l.startswith(lecture_name)][0])\n",
    "        verbit_path = os.path.join(\"verbit\", file)\n",
    "        \n",
    "        \n",
    "        verbit_wer = compare(reference_path, verbit_path)\n",
    "        results.append({\"model\":\"verbit\", \"lecture\":lecture_name[:-1], \"wer\": verbit_wer})\n",
    "        \n",
    "        whisper_small_wer = compare(reference_path, whisper_small_path)\n",
    "        results.append({\"model\":\"whisper small.en\", \"lecture\":lecture_name[:-1], \"wer\": whisper_small_wer})\n",
    "        \n",
    "        whisper_base_wer = compare(reference_path, whisper_base_path)\n",
    "        results.append({\"model\":\"whisper base.en\", \"lecture\":lecture_name[:-1], \"wer\": whisper_base_wer})\n",
    "        \n",
    "        whisper_medium_wer = compare(reference_path, whisper_medium_path)\n",
    "        results.append({\"model\":\"whisper medium.en\", \"lecture\":lecture_name[:-1], \"wer\": whisper_medium_wer})\n",
    "\n",
    "df = pd.DataFrame(results)\n",
    "df"
   ]
  },
  {
   "cell_type": "code",
   "execution_count": null,
   "id": "346b5492-ab74-4617-8760-6106f6755952",
   "metadata": {},
   "outputs": [],
   "source": [
    "import matplotlib.pyplot as plt\n",
    "\n",
    "average_wer = df.groupby('model')['wer'].mean()\n",
    "plt.figure(figsize=(12, 6))\n",
    "average_wer.plot(kind='bar', color='steelblue')\n",
    "\n",
    "plt.title('Average Word Error Rate (WER) per Model')\n",
    "plt.xlabel('Model')\n",
    "plt.ylabel('Average WER')\n",
    "\n",
    "for i, v in enumerate(average_wer):\n",
    "    plt.text(i, v, f'{v:.3f}', ha='center', va='bottom', color='black')\n",
    "\n",
    "\n",
    "plt.xticks(rotation=0)\n",
    "plt.savefig('avg.png')\n",
    "plt.show()"
   ]
  },
  {
   "cell_type": "code",
   "execution_count": null,
   "id": "918378e2-05bd-4e7d-af9a-72bcda130630",
   "metadata": {},
   "outputs": [],
   "source": [
    "import numpy as np\n",
    "\n",
    "models = df['model'].unique()\n",
    "lectures = df['lecture'].unique()\n",
    "\n",
    "# Set the width of each bar\n",
    "bar_width = 0.2\n",
    "\n",
    "# Set the offset for each bar group\n",
    "offset = np.arange(len(lectures))\n",
    "\n",
    "plt.figure(figsize=(18, 8))\n",
    "\n",
    "# Plot the bars for each model and lecture combination\n",
    "for i, model in enumerate(models):\n",
    "    model_data = df[df['model'] == model]\n",
    "    plt.bar(offset + (i * bar_width), model_data['wer'], width=bar_width, label=model)\n",
    "\n",
    "plt.title('Breakdown of Word Error Rate (WER) by Lecture and Model')\n",
    "plt.xlabel('Lecture')\n",
    "plt.ylabel('WER')\n",
    "plt.xticks(offset, lectures, rotation=0)\n",
    "\n",
    "plt.legend(title='Model')\n",
    "\n",
    "plt.tight_layout()\n",
    "plt.savefig('detailed.png')\n",
    "plt.show()"
   ]
  }
 ],
 "metadata": {
  "kernelspec": {
   "display_name": "Python 3 (ipykernel)",
   "language": "python",
   "name": "python3"
  },
  "language_info": {
   "codemirror_mode": {
    "name": "ipython",
    "version": 3
   },
   "file_extension": ".py",
   "mimetype": "text/x-python",
   "name": "python",
   "nbconvert_exporter": "python",
   "pygments_lexer": "ipython3",
   "version": "3.9.5"
  }
 },
 "nbformat": 4,
 "nbformat_minor": 5
}
