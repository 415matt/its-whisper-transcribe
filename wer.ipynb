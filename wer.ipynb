{
 "cells": [
  {
   "cell_type": "code",
   "execution_count": 9,
   "id": "1a548f62-950d-4e8c-8446-3cd4097a2403",
   "metadata": {},
   "outputs": [],
   "source": [
    "from whisper.normalizers import EnglishTextNormalizer\n",
    "normalize = EnglishTextNormalizer()\n",
    "from jiwer import process_words\n",
    "import pandas as pd\n",
    "import os\n",
    "\n",
    "def load_file(file_path):\n",
    "    with open(file_path, 'r', encoding='utf-8-sig') as file:\n",
    "        file_string = file.read()\n",
    "    return file_string\n",
    "\n",
    "def compare(reference_path, hypothesis_path):\n",
    "    #normalize all text before comparison\n",
    "    reference = normalize(load_file(reference_path))\n",
    "    hypothesis = normalize(load_file(hypothesis_path))\n",
    "    \n",
    "    output = process_words(reference, hypothesis)\n",
    "    return output.wer"
   ]
  },
  {
   "cell_type": "code",
   "execution_count": 63,
   "id": "bfe6fad4-3ae6-4f74-9a98-0df9dbd5bd62",
   "metadata": {},
   "outputs": [
    {
     "data": {
      "text/html": [
       "<div>\n",
       "<style scoped>\n",
       "    .dataframe tbody tr th:only-of-type {\n",
       "        vertical-align: middle;\n",
       "    }\n",
       "\n",
       "    .dataframe tbody tr th {\n",
       "        vertical-align: top;\n",
       "    }\n",
       "\n",
       "    .dataframe thead th {\n",
       "        text-align: right;\n",
       "    }\n",
       "</style>\n",
       "<table border=\"1\" class=\"dataframe\">\n",
       "  <thead>\n",
       "    <tr style=\"text-align: right;\">\n",
       "      <th></th>\n",
       "      <th>model</th>\n",
       "      <th>lecture</th>\n",
       "      <th>wer</th>\n",
       "    </tr>\n",
       "  </thead>\n",
       "  <tbody>\n",
       "    <tr>\n",
       "      <th>0</th>\n",
       "      <td>verbit</td>\n",
       "      <td>Lecture 17</td>\n",
       "      <td>0.072832</td>\n",
       "    </tr>\n",
       "    <tr>\n",
       "      <th>1</th>\n",
       "      <td>whisper small.en</td>\n",
       "      <td>Lecture 17</td>\n",
       "      <td>0.040087</td>\n",
       "    </tr>\n",
       "    <tr>\n",
       "      <th>2</th>\n",
       "      <td>whisper base.en</td>\n",
       "      <td>Lecture 17</td>\n",
       "      <td>0.042270</td>\n",
       "    </tr>\n",
       "    <tr>\n",
       "      <th>3</th>\n",
       "      <td>whisper medium.en</td>\n",
       "      <td>Lecture 17</td>\n",
       "      <td>0.033340</td>\n",
       "    </tr>\n",
       "    <tr>\n",
       "      <th>4</th>\n",
       "      <td>verbit</td>\n",
       "      <td>Lecture 19</td>\n",
       "      <td>0.069288</td>\n",
       "    </tr>\n",
       "    <tr>\n",
       "      <th>...</th>\n",
       "      <td>...</td>\n",
       "      <td>...</td>\n",
       "      <td>...</td>\n",
       "    </tr>\n",
       "    <tr>\n",
       "      <th>63</th>\n",
       "      <td>whisper medium.en</td>\n",
       "      <td>Lecture 14</td>\n",
       "      <td>0.042746</td>\n",
       "    </tr>\n",
       "    <tr>\n",
       "      <th>64</th>\n",
       "      <td>verbit</td>\n",
       "      <td>Lecture 13</td>\n",
       "      <td>0.078566</td>\n",
       "    </tr>\n",
       "    <tr>\n",
       "      <th>65</th>\n",
       "      <td>whisper small.en</td>\n",
       "      <td>Lecture 13</td>\n",
       "      <td>0.056488</td>\n",
       "    </tr>\n",
       "    <tr>\n",
       "      <th>66</th>\n",
       "      <td>whisper base.en</td>\n",
       "      <td>Lecture 13</td>\n",
       "      <td>0.062085</td>\n",
       "    </tr>\n",
       "    <tr>\n",
       "      <th>67</th>\n",
       "      <td>whisper medium.en</td>\n",
       "      <td>Lecture 13</td>\n",
       "      <td>0.050373</td>\n",
       "    </tr>\n",
       "  </tbody>\n",
       "</table>\n",
       "<p>68 rows × 3 columns</p>\n",
       "</div>"
      ],
      "text/plain": [
       "                model     lecture       wer\n",
       "0              verbit  Lecture 17  0.072832\n",
       "1    whisper small.en  Lecture 17  0.040087\n",
       "2     whisper base.en  Lecture 17  0.042270\n",
       "3   whisper medium.en  Lecture 17  0.033340\n",
       "4              verbit  Lecture 19  0.069288\n",
       "..                ...         ...       ...\n",
       "63  whisper medium.en  Lecture 14  0.042746\n",
       "64             verbit  Lecture 13  0.078566\n",
       "65   whisper small.en  Lecture 13  0.056488\n",
       "66    whisper base.en  Lecture 13  0.062085\n",
       "67  whisper medium.en  Lecture 13  0.050373\n",
       "\n",
       "[68 rows x 3 columns]"
      ]
     },
     "execution_count": 63,
     "metadata": {},
     "output_type": "execute_result"
    }
   ],
   "source": [
    "results = []\n",
    "\n",
    "for file in os.listdir(\"verbit\"):\n",
    "    if not file.startswith('.'):\n",
    "        lecture_name = file.split('.')[0] + \" \"\n",
    "        \n",
    "        reference_path = os.path.join(\"reference\", [l for l in os.listdir(\"reference\") if l.startswith(lecture_name)][0])\n",
    "        whisper_small_path = os.path.join(\"whisper/small.en\", [l for l in os.listdir(\"whisper/small.en\") if l.startswith(lecture_name)][0])\n",
    "        whisper_base_path = os.path.join(\"whisper/base.en\", [l for l in os.listdir(\"whisper/base.en\") if l.startswith(lecture_name)][0])\n",
    "        whisper_medium_path = os.path.join(\"whisper/medium.en\", [l for l in os.listdir(\"whisper/medium.en\") if l.startswith(lecture_name)][0])\n",
    "        verbit_path = os.path.join(\"verbit\", file)\n",
    "        \n",
    "        \n",
    "        verbit_wer = compare(reference_path, verbit_path)\n",
    "        results.append({\"model\":\"verbit\", \"lecture\":lecture_name[:-1], \"wer\": verbit_wer})\n",
    "        \n",
    "        whisper_small_wer = compare(reference_path, whisper_small_path)\n",
    "        results.append({\"model\":\"whisper small.en\", \"lecture\":lecture_name[:-1], \"wer\": whisper_small_wer})\n",
    "        \n",
    "        whisper_base_wer = compare(reference_path, whisper_base_path)\n",
    "        results.append({\"model\":\"whisper base.en\", \"lecture\":lecture_name[:-1], \"wer\": whisper_base_wer})\n",
    "        \n",
    "        whisper_medium_wer = compare(reference_path, whisper_medium_path)\n",
    "        results.append({\"model\":\"whisper medium.en\", \"lecture\":lecture_name[:-1], \"wer\": whisper_medium_wer})\n",
    "\n",
    "df = pd.DataFrame(results)\n",
    "df"
   ]
  },
  {
   "cell_type": "code",
   "execution_count": 58,
   "id": "346b5492-ab74-4617-8760-6106f6755952",
   "metadata": {},
   "outputs": [
    {
     "data": {
      "image/png": "[encoded data removed]",
      "text/plain": [
       "<Figure size 864x432 with 1 Axes>"
      ]
     },
     "metadata": {
      "needs_background": "light"
     },
     "output_type": "display_data"
    }
   ],
   "source": [
    "import matplotlib.pyplot as plt\n",
    "\n",
    "average_wer = df.groupby('model')['wer'].mean()\n",
    "plt.figure(figsize=(12, 6))\n",
    "average_wer.plot(kind='bar', color='steelblue')\n",
    "\n",
    "plt.title('Average Word Error Rate (WER) per Model')\n",
    "plt.xlabel('Model')\n",
    "plt.ylabel('Average WER')\n",
    "\n",
    "for i, v in enumerate(average_wer):\n",
    "    plt.text(i, v, f'{v:.3f}', ha='center', va='bottom', color='black')\n",
    "\n",
    "\n",
    "plt.xticks(rotation=0)\n",
    "plt.savefig('avg.png')\n",
    "plt.show()"
   ]
  },
  {
   "cell_type": "code",
   "execution_count": 59,
   "id": "918378e2-05bd-4e7d-af9a-72bcda130630",
   "metadata": {},
   "outputs": [
    {
     "data": {
      "image/png": "[encoded data removed]",
      "text/plain": [
       "<Figure size 1296x576 with 1 Axes>"
      ]
     },
     "metadata": {
      "needs_background": "light"
     },
     "output_type": "display_data"
    }
   ],
   "source": [
    "import numpy as np\n",
    "\n",
    "models = df['model'].unique()\n",
    "lectures = df['lecture'].unique()\n",
    "\n",
    "# Set the width of each bar\n",
    "bar_width = 0.2\n",
    "\n",
    "# Set the offset for each bar group\n",
    "offset = np.arange(len(lectures))\n",
    "\n",
    "plt.figure(figsize=(18, 8))\n",
    "\n",
    "# Plot the bars for each model and lecture combination\n",
    "for i, model in enumerate(models):\n",
    "    model_data = df[df['model'] == model]\n",
    "    plt.bar(offset + (i * bar_width), model_data['wer'], width=bar_width, label=model)\n",
    "\n",
    "plt.title('Breakdown of Word Error Rate (WER) by Lecture and Model')\n",
    "plt.xlabel('Lecture')\n",
    "plt.ylabel('WER')\n",
    "plt.xticks(offset, lectures, rotation=0)\n",
    "\n",
    "plt.legend(title='Model')\n",
    "\n",
    "plt.tight_layout()\n",
    "plt.savefig('detailed.png')\n",
    "plt.show()"
   ]
  }
 ],
 "metadata": {
  "kernelspec": {
   "display_name": "Python 3 (ipykernel)",
   "language": "python",
   "name": "python3"
  },
  "language_info": {
   "codemirror_mode": {
    "name": "ipython",
    "version": 3
   },
   "file_extension": ".py",
   "mimetype": "text/x-python",
   "name": "python",
   "nbconvert_exporter": "python",
   "pygments_lexer": "ipython3",
   "version": "3.9.5"
  }
 },
 "nbformat": 4,
 "nbformat_minor": 5
}
